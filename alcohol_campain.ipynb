{
 "cells": [
  {
   "cell_type": "markdown",
   "id": "621b7fbf",
   "metadata": {},
   "source": [
    "## Simulação de uma campanha realizada para a redução do consumo de álcool excessivo.\n",
    "\n",
    "### Levaremos em consideração os seguintes indicadores:\n",
    "###### - Mortes nos últimos 10 anos;\n",
    "###### - Comparação de mortes por álcool com algumas das principais doenças (porcentagem);\n",
    "###### - Variação ao longo do tempo;\n",
    "###### - Comparação das mortes relacionadas com álcool no Brasil com o resto do mundo."
   ]
  },
  {
   "cell_type": "code",
   "execution_count": 17,
   "id": "e2c87725",
   "metadata": {},
   "outputs": [],
   "source": [
    "import pandas as pd"
   ]
  },
  {
   "cell_type": "code",
   "execution_count": 18,
   "id": "07dc5c0e",
   "metadata": {},
   "outputs": [],
   "source": [
    "tabela = pd.read_csv(\"cause_of_deaths.csv\")"
   ]
  },
  {
   "cell_type": "code",
   "execution_count": 19,
   "id": "b81b9720",
   "metadata": {},
   "outputs": [
    {
     "data": {
      "text/plain": [
       "Index(['Country/Territory', 'Code', 'Year', 'Meningitis',\n",
       "       'Alzheimer's Disease and Other Dementias', 'Parkinson's Disease',\n",
       "       'Nutritional Deficiencies', 'Malaria', 'Drowning',\n",
       "       'Interpersonal Violence', 'Maternal Disorders', 'HIV/AIDS',\n",
       "       'Drug Use Disorders', 'Tuberculosis', 'Cardiovascular Diseases',\n",
       "       'Lower Respiratory Infections', 'Neonatal Disorders',\n",
       "       'Alcohol Use Disorders', 'Self-harm', 'Exposure to Forces of Nature',\n",
       "       'Diarrheal Diseases', 'Environmental Heat and Cold Exposure',\n",
       "       'Neoplasms', 'Conflict and Terrorism', 'Diabetes Mellitus',\n",
       "       'Chronic Kidney Disease', 'Poisonings', 'Protein-Energy Malnutrition',\n",
       "       'Road Injuries', 'Chronic Respiratory Diseases',\n",
       "       'Cirrhosis and Other Chronic Liver Diseases', 'Digestive Diseases',\n",
       "       'Fire, Heat, and Hot Substances', 'Acute Hepatitis'],\n",
       "      dtype='object')"
      ]
     },
     "execution_count": 19,
     "metadata": {},
     "output_type": "execute_result"
    }
   ],
   "source": [
    "# Olhando as colunas disponíveis:\n",
    "tabela.columns"
   ]
  },
  {
   "cell_type": "markdown",
   "id": "982fae5d",
   "metadata": {},
   "source": [
    "### Realizando as somas e filtros (anos) de cada doença selecionada para comparação:"
   ]
  },
  {
   "cell_type": "code",
   "execution_count": 7,
   "id": "b017cd7c",
   "metadata": {},
   "outputs": [
    {
     "data": {
      "text/plain": [
       "4819018"
      ]
     },
     "execution_count": 7,
     "metadata": {},
     "output_type": "execute_result"
    }
   ],
   "source": [
    "tabela['Alcohol Use Disorders'].sum()"
   ]
  },
  {
   "cell_type": "code",
   "execution_count": 9,
   "id": "24761a96",
   "metadata": {},
   "outputs": [
    {
     "data": {
      "text/plain": [
       "36364419"
      ]
     },
     "execution_count": 9,
     "metadata": {},
     "output_type": "execute_result"
    }
   ],
   "source": [
    "tabela['HIV/AIDS'].sum()"
   ]
  },
  {
   "cell_type": "code",
   "execution_count": 11,
   "id": "47f6f347",
   "metadata": {},
   "outputs": [
    {
     "data": {
      "text/plain": [
       "45850603"
      ]
     },
     "execution_count": 11,
     "metadata": {},
     "output_type": "execute_result"
    }
   ],
   "source": [
    "tabela['Tuberculosis'].sum()"
   ]
  },
  {
   "cell_type": "code",
   "execution_count": 15,
   "id": "d7934cc8",
   "metadata": {},
   "outputs": [
    {
     "data": {
      "text/plain": [
       "31448872"
      ]
     },
     "execution_count": 15,
     "metadata": {},
     "output_type": "execute_result"
    }
   ],
   "source": [
    "tabela['Diabetes Mellitus'].sum()"
   ]
  },
  {
   "cell_type": "code",
   "execution_count": 16,
   "id": "59d51850",
   "metadata": {},
   "outputs": [
    {
     "data": {
      "text/plain": [
       "3784791"
      ]
     },
     "execution_count": 16,
     "metadata": {},
     "output_type": "execute_result"
    }
   ],
   "source": [
    "tabela['Acute Hepatitis'].sum()"
   ]
  },
  {
   "cell_type": "markdown",
   "id": "3faaf1ad",
   "metadata": {},
   "source": [
    "### Comparação das mortes relacionadas ao álcool e outras doenças:"
   ]
  },
  {
   "cell_type": "code",
   "execution_count": null,
   "id": "e5465caf",
   "metadata": {},
   "outputs": [],
   "source": []
  },
  {
   "cell_type": "code",
   "execution_count": null,
   "id": "ee0d2a91",
   "metadata": {},
   "outputs": [],
   "source": []
  },
  {
   "cell_type": "markdown",
   "id": "c616ee9f",
   "metadata": {},
   "source": [
    "### Variação ao longo do tempo:"
   ]
  },
  {
   "cell_type": "code",
   "execution_count": null,
   "id": "d73d422e",
   "metadata": {},
   "outputs": [],
   "source": []
  }
 ],
 "metadata": {
  "kernelspec": {
   "display_name": "Python 3 (ipykernel)",
   "language": "python",
   "name": "python3"
  },
  "language_info": {
   "codemirror_mode": {
    "name": "ipython",
    "version": 3
   },
   "file_extension": ".py",
   "mimetype": "text/x-python",
   "name": "python",
   "nbconvert_exporter": "python",
   "pygments_lexer": "ipython3",
   "version": "3.9.13"
  }
 },
 "nbformat": 4,
 "nbformat_minor": 5
}
