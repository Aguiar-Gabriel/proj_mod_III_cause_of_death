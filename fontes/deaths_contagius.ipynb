{
 "cells": [
  {
   "cell_type": "markdown",
   "id": "7710049a",
   "metadata": {},
   "source": [
    "## Iniciação\n",
    "\n",
    "- Carregando pandas para o manejo do banco de dados\n",
    "- Statistics para cálculos de estatística\n",
    "- Alpha como nível crítico de significância estatística genérico mais aceito pela estatística."
   ]
  },
  {
   "cell_type": "code",
   "execution_count": 35,
   "id": "fdedb707",
   "metadata": {},
   "outputs": [],
   "source": [
    "import pandas as pd\n",
    "import statistics\n",
    "import matplotlib.pyplot as plt\n",
    "import numpy as np\n",
    "import math\n",
    "from scipy import stats as st\n",
    "alpha=0.05"
   ]
  },
  {
   "cell_type": "markdown",
   "id": "512ffef0",
   "metadata": {},
   "source": [
    "- Carregando Dataframe"
   ]
  },
  {
   "cell_type": "code",
   "execution_count": null,
   "id": "5706b8af",
   "metadata": {},
   "outputs": [],
   "source": [
    "df=pd.read_csv('cause_of_deaths.csv')"
   ]
  },
  {
   "cell_type": "code",
   "execution_count": 3,
   "id": "531fc7a6",
   "metadata": {},
   "outputs": [
    {
     "name": "stdout",
     "output_type": "stream",
     "text": [
      "<class 'pandas.core.frame.DataFrame'>\n",
      "RangeIndex: 6120 entries, 0 to 6119\n",
      "Data columns (total 34 columns):\n",
      " #   Column                                      Non-Null Count  Dtype \n",
      "---  ------                                      --------------  ----- \n",
      " 0   Country/Territory                           6120 non-null   object\n",
      " 1   Code                                        6120 non-null   object\n",
      " 2   Year                                        6120 non-null   int64 \n",
      " 3   Meningitis                                  6120 non-null   int64 \n",
      " 4   Alzheimer's Disease and Other Dementias     6120 non-null   int64 \n",
      " 5   Parkinson's Disease                         6120 non-null   int64 \n",
      " 6   Nutritional Deficiencies                    6120 non-null   int64 \n",
      " 7   Malaria                                     6120 non-null   int64 \n",
      " 8   Drowning                                    6120 non-null   int64 \n",
      " 9   Interpersonal Violence                      6120 non-null   int64 \n",
      " 10  Maternal Disorders                          6120 non-null   int64 \n",
      " 11  HIV/AIDS                                    6120 non-null   int64 \n",
      " 12  Drug Use Disorders                          6120 non-null   int64 \n",
      " 13  Tuberculosis                                6120 non-null   int64 \n",
      " 14  Cardiovascular Diseases                     6120 non-null   int64 \n",
      " 15  Lower Respiratory Infections                6120 non-null   int64 \n",
      " 16  Neonatal Disorders                          6120 non-null   int64 \n",
      " 17  Alcohol Use Disorders                       6120 non-null   int64 \n",
      " 18  Self-harm                                   6120 non-null   int64 \n",
      " 19  Exposure to Forces of Nature                6120 non-null   int64 \n",
      " 20  Diarrheal Diseases                          6120 non-null   int64 \n",
      " 21  Environmental Heat and Cold Exposure        6120 non-null   int64 \n",
      " 22  Neoplasms                                   6120 non-null   int64 \n",
      " 23  Conflict and Terrorism                      6120 non-null   int64 \n",
      " 24  Diabetes Mellitus                           6120 non-null   int64 \n",
      " 25  Chronic Kidney Disease                      6120 non-null   int64 \n",
      " 26  Poisonings                                  6120 non-null   int64 \n",
      " 27  Protein-Energy Malnutrition                 6120 non-null   int64 \n",
      " 28  Road Injuries                               6120 non-null   int64 \n",
      " 29  Chronic Respiratory Diseases                6120 non-null   int64 \n",
      " 30  Cirrhosis and Other Chronic Liver Diseases  6120 non-null   int64 \n",
      " 31  Digestive Diseases                          6120 non-null   int64 \n",
      " 32  Fire, Heat, and Hot Substances              6120 non-null   int64 \n",
      " 33  Acute Hepatitis                             6120 non-null   int64 \n",
      "dtypes: int64(32), object(2)\n",
      "memory usage: 1.6+ MB\n"
     ]
    }
   ],
   "source": [
    "df.info()"
   ]
  },
  {
   "cell_type": "markdown",
   "id": "9e6c429a",
   "metadata": {},
   "source": [
    "# Observando informações gerais do banco de dados"
   ]
  },
  {
   "cell_type": "code",
   "execution_count": 4,
   "id": "fb3ad806",
   "metadata": {},
   "outputs": [
    {
     "data": {
      "text/plain": [
       "Index(['Country/Territory', 'Code', 'Year', 'Meningitis',\n",
       "       'Alzheimer's Disease and Other Dementias', 'Parkinson's Disease',\n",
       "       'Nutritional Deficiencies', 'Malaria', 'Drowning',\n",
       "       'Interpersonal Violence', 'Maternal Disorders', 'HIV/AIDS',\n",
       "       'Drug Use Disorders', 'Tuberculosis', 'Cardiovascular Diseases',\n",
       "       'Lower Respiratory Infections', 'Neonatal Disorders',\n",
       "       'Alcohol Use Disorders', 'Self-harm', 'Exposure to Forces of Nature',\n",
       "       'Diarrheal Diseases', 'Environmental Heat and Cold Exposure',\n",
       "       'Neoplasms', 'Conflict and Terrorism', 'Diabetes Mellitus',\n",
       "       'Chronic Kidney Disease', 'Poisonings', 'Protein-Energy Malnutrition',\n",
       "       'Road Injuries', 'Chronic Respiratory Diseases',\n",
       "       'Cirrhosis and Other Chronic Liver Diseases', 'Digestive Diseases',\n",
       "       'Fire, Heat, and Hot Substances', 'Acute Hepatitis'],\n",
       "      dtype='object')"
      ]
     },
     "execution_count": 4,
     "metadata": {},
     "output_type": "execute_result"
    }
   ],
   "source": [
    "df.columns"
   ]
  },
  {
   "cell_type": "markdown",
   "id": "6e4a0627",
   "metadata": {},
   "source": [
    "## Objetivos:\n",
    "Provar estatisticamente a hipótese que as médias de mortalidade entre doenças transmissíveis e não transmissíveis se diferem entre si.\n",
    "Passos:\n",
    "- Separar valores de doenças transmissíveis e não transmissíveis.\n",
    "- Realizar ptest com as duas populações.\n",
    "\n",
    "(Doenças transmissíveis são apenas consideradas as que não possuem agente intermediário, ou seja, contagiosas)\n",
    "(Doenças não transmissíveis são consideradas as que possuem um agente intermediário ou desenvolvidas)"
   ]
  },
  {
   "cell_type": "markdown",
   "id": "d04da372",
   "metadata": {},
   "source": [
    "# Análise Estatística de Dados\n",
    "- Definindo as populações de mortos por cada tipo de doença:"
   ]
  },
  {
   "cell_type": "code",
   "execution_count": 5,
   "id": "4c49d0a5",
   "metadata": {},
   "outputs": [],
   "source": [
    "df_contagious=pd.DataFrame()"
   ]
  },
  {
   "cell_type": "code",
   "execution_count": 6,
   "id": "aaacc54b",
   "metadata": {},
   "outputs": [],
   "source": [
    "df_noncommunicable=pd.DataFrame()"
   ]
  },
  {
   "cell_type": "code",
   "execution_count": 8,
   "id": "d96ab51e",
   "metadata": {},
   "outputs": [],
   "source": [
    "contagious=['Meningitis', 'HIV/AIDS', 'Tuberculosis', 'Lower Respiratory Infections', 'Acute Hepatitis']"
   ]
  },
  {
   "cell_type": "code",
   "execution_count": 9,
   "id": "1fb21169",
   "metadata": {},
   "outputs": [],
   "source": [
    "for i in contagious:\n",
    "    df_contagious=pd.concat([df_contagious, df[i]])"
   ]
  },
  {
   "cell_type": "code",
   "execution_count": 10,
   "id": "da4c791c",
   "metadata": {},
   "outputs": [],
   "source": [
    "noncommunicable=[\"Alzheimer's Disease and Other Dementias\", \"Parkinson's Disease\", \"Cardiovascular Diseases\", \"Diarrheal Diseases\", \"Cirrhosis and Other Chronic Liver Diseases\", 'Digestive Diseases']"
   ]
  },
  {
   "cell_type": "code",
   "execution_count": 11,
   "id": "c44d109c",
   "metadata": {},
   "outputs": [],
   "source": [
    "for i in noncommunicable:\n",
    "    df_noncommunicable=pd.concat([df_noncommunicable, df[i]])"
   ]
  },
  {
   "cell_type": "markdown",
   "id": "adeae5e3",
   "metadata": {},
   "source": [
    "- Aplicando teste estatístico."
   ]
  },
  {
   "cell_type": "code",
   "execution_count": 29,
   "id": "45eb6a94",
   "metadata": {},
   "outputs": [],
   "source": [
    "significancia_type=st.ttest_ind(df_contagious, df_noncommunicable)"
   ]
  },
  {
   "cell_type": "code",
   "execution_count": 32,
   "id": "a797502d",
   "metadata": {
    "scrolled": true
   },
   "outputs": [
    {
     "name": "stdout",
     "output_type": "stream",
     "text": [
      "[9.44564334e-59]\n"
     ]
    }
   ],
   "source": [
    "print(significancia_type.pvalue)"
   ]
  },
  {
   "cell_type": "markdown",
   "id": "8413d52f",
   "metadata": {},
   "source": [
    "#### Resultado:"
   ]
  },
  {
   "cell_type": "code",
   "execution_count": 33,
   "id": "7692dbdf",
   "metadata": {
    "scrolled": true
   },
   "outputs": [
    {
     "name": "stdout",
     "output_type": "stream",
     "text": [
      "Rejeitamos a hipótese nula, logo as populações possuem médias de notas significativamente diferentes.\n"
     ]
    }
   ],
   "source": [
    "if significancia_type.pvalue < alpha:\n",
    "    print(\"Rejeitamos a hipótese nula, logo as populações possuem médias de morte significativamente diferentes.\")\n",
    "else:\n",
    "    print(\"Nós não podemos rejeitar a hipótese nula, logo, as mortes não diferem significativamente.\") "
   ]
  }
 ],
 "metadata": {
  "kernelspec": {
   "display_name": "Python 3",
   "language": "python",
   "name": "python3"
  },
  "language_info": {
   "codemirror_mode": {
    "name": "ipython",
    "version": 3
   },
   "file_extension": ".py",
   "mimetype": "text/x-python",
   "name": "python",
   "nbconvert_exporter": "python",
   "pygments_lexer": "ipython3",
   "version": "3.9.5 (v3.9.5:0a7dcbdb13, May  3 2021, 13:05:53) \n[Clang 12.0.5 (clang-1205.0.22.9)]"
  },
  "vscode": {
   "interpreter": {
    "hash": "aee8b7b246df8f9039afb4144a1f6fd8d2ca17a180786b69acc140d282b71a49"
   }
  }
 },
 "nbformat": 4,
 "nbformat_minor": 5
}
